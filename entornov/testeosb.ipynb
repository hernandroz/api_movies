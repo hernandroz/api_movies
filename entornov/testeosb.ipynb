{
 "cells": [
  {
   "cell_type": "code",
   "execution_count": 2,
   "metadata": {},
   "outputs": [
    {
     "name": "stdout",
     "output_type": "stream",
     "text": [
      "tamaño: (45476, 3)\n"
     ]
    },
    {
     "data": {
      "text/html": [
       "<div>\n",
       "<style scoped>\n",
       "    .dataframe tbody tr th:only-of-type {\n",
       "        vertical-align: middle;\n",
       "    }\n",
       "\n",
       "    .dataframe tbody tr th {\n",
       "        vertical-align: top;\n",
       "    }\n",
       "\n",
       "    .dataframe thead th {\n",
       "        text-align: right;\n",
       "    }\n",
       "</style>\n",
       "<table border=\"1\" class=\"dataframe\">\n",
       "  <thead>\n",
       "    <tr style=\"text-align: right;\">\n",
       "      <th></th>\n",
       "      <th>id</th>\n",
       "      <th>cast_names</th>\n",
       "      <th>crew_names</th>\n",
       "    </tr>\n",
       "  </thead>\n",
       "  <tbody>\n",
       "    <tr>\n",
       "      <th>0</th>\n",
       "      <td>862</td>\n",
       "      <td>['Tom Hanks', 'Tim Allen', 'Don Rickles', 'Jim...</td>\n",
       "      <td>['John Lasseter', 'Joss Whedon', 'Andrew Stant...</td>\n",
       "    </tr>\n",
       "    <tr>\n",
       "      <th>1</th>\n",
       "      <td>8844</td>\n",
       "      <td>['Robin Williams', 'Jonathan Hyde', 'Kirsten D...</td>\n",
       "      <td>['Larry J. Franco', 'Jonathan Hensleigh', 'Jam...</td>\n",
       "    </tr>\n",
       "    <tr>\n",
       "      <th>2</th>\n",
       "      <td>15602</td>\n",
       "      <td>['Walter Matthau', 'Jack Lemmon', 'Ann-Margret...</td>\n",
       "      <td>['Howard Deutch', 'Mark Steven Johnson', 'Mark...</td>\n",
       "    </tr>\n",
       "    <tr>\n",
       "      <th>3</th>\n",
       "      <td>31357</td>\n",
       "      <td>['Whitney Houston', 'Angela Bassett', 'Loretta...</td>\n",
       "      <td>['Forest Whitaker', 'Ronald Bass', 'Ronald Bas...</td>\n",
       "    </tr>\n",
       "    <tr>\n",
       "      <th>4</th>\n",
       "      <td>11862</td>\n",
       "      <td>['Steve Martin', 'Diane Keaton', 'Martin Short...</td>\n",
       "      <td>['Alan Silvestri', 'Elliot Davis', 'Nancy Meye...</td>\n",
       "    </tr>\n",
       "  </tbody>\n",
       "</table>\n",
       "</div>"
      ],
      "text/plain": [
       "      id                                         cast_names  \\\n",
       "0    862  ['Tom Hanks', 'Tim Allen', 'Don Rickles', 'Jim...   \n",
       "1   8844  ['Robin Williams', 'Jonathan Hyde', 'Kirsten D...   \n",
       "2  15602  ['Walter Matthau', 'Jack Lemmon', 'Ann-Margret...   \n",
       "3  31357  ['Whitney Houston', 'Angela Bassett', 'Loretta...   \n",
       "4  11862  ['Steve Martin', 'Diane Keaton', 'Martin Short...   \n",
       "\n",
       "                                          crew_names  \n",
       "0  ['John Lasseter', 'Joss Whedon', 'Andrew Stant...  \n",
       "1  ['Larry J. Franco', 'Jonathan Hensleigh', 'Jam...  \n",
       "2  ['Howard Deutch', 'Mark Steven Johnson', 'Mark...  \n",
       "3  ['Forest Whitaker', 'Ronald Bass', 'Ronald Bas...  \n",
       "4  ['Alan Silvestri', 'Elliot Davis', 'Nancy Meye...  "
      ]
     },
     "execution_count": 2,
     "metadata": {},
     "output_type": "execute_result"
    }
   ],
   "source": [
    "import pandas as pd\n",
    "df = pd.read_csv('credits_limpio.csv')\n",
    "print('tamaño:', df.shape)\n",
    "df.head()"
   ]
  }
 ],
 "metadata": {
  "kernelspec": {
   "display_name": "entornov",
   "language": "python",
   "name": "python3"
  },
  "language_info": {
   "codemirror_mode": {
    "name": "ipython",
    "version": 3
   },
   "file_extension": ".py",
   "mimetype": "text/x-python",
   "name": "python",
   "nbconvert_exporter": "python",
   "pygments_lexer": "ipython3",
   "version": "3.11.4"
  },
  "orig_nbformat": 4
 },
 "nbformat": 4,
 "nbformat_minor": 2
}
